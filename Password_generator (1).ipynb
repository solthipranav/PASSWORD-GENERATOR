{
  "nbformat": 4,
  "nbformat_minor": 0,
  "metadata": {
    "colab": {
      "provenance": []
    },
    "kernelspec": {
      "name": "python3",
      "display_name": "Python 3"
    },
    "language_info": {
      "name": "python"
    }
  },
  "cells": [
    {
      "cell_type": "code",
      "source": [
        "import random\n",
        "import string\n",
        "\n",
        "def generate_password(length):\n",
        "    if length < 6:\n",
        "        raise ValueError(\"Password length should be at least 6 characters.\")\n",
        "\n",
        "    # Ensure the password contains at least one of each required character type\n",
        "    password_chars = [\n",
        "        random.choice(string.ascii_uppercase),\n",
        "        random.choice(string.ascii_lowercase),\n",
        "        random.choice(string.digits),\n",
        "        random.choice(string.punctuation)\n",
        "    ]\n",
        "\n",
        "    # Fill the remaining length of the password with random characters from all types\n",
        "    if length > 4:\n",
        "        password_chars += random.choices(string.ascii_letters + string.digits + string.punctuation, k=length-4)\n",
        "\n",
        "    # Shuffle the characters to ensure randomness\n",
        "    random.shuffle(password_chars)\n",
        "    return ''.join(password_chars)\n",
        "\n",
        "def main():\n",
        "    print(\"Welcome to the Secure Password Generator!\")\n",
        "    print(\"This program generates strong, secure passwords that meet modern security standards.\")\n",
        "    print(\"Each password will include a mix of uppercase letters, lowercase letters, numbers, and special characters.\")\n",
        "\n",
        "    try:\n",
        "        length = int(input(\"Enter the length of the password (minimum 6 characters): \"))\n",
        "        count = int(input(\"Enter the number of passwords to generate: \"))\n",
        "\n",
        "        if length < 6:\n",
        "            print(\"Password length should be at least 6 characters.\")\n",
        "            return\n",
        "\n",
        "        print(\"\\nGenerated Passwords:\")\n",
        "        for _ in range(count):\n",
        "            print(generate_password(length))\n",
        "\n",
        "    except ValueError:\n",
        "        print(\"Please enter valid numbers for length and count.\")\n",
        "\n",
        "if __name__ == \"__main__\":\n",
        "    main()\n"
      ],
      "metadata": {
        "colab": {
          "base_uri": "https://localhost:8080/"
        },
        "id": "3EmpLO8yJ2F4",
        "outputId": "5a7bf35d-1fbc-4ef9-9b93-314c513488d5"
      },
      "execution_count": 5,
      "outputs": [
        {
          "output_type": "stream",
          "name": "stdout",
          "text": [
            "Welcome to the Secure Password Generator!\n",
            "This program generates strong, secure passwords that meet modern security standards.\n",
            "Each password will include a mix of uppercase letters, lowercase letters, numbers, and special characters.\n",
            "Enter the length of the password (minimum 6 characters): 6\n",
            "Enter the number of passwords to generate: 6\n",
            "\n",
            "Generated Passwords:\n",
            "~S7hHF\n",
            "zG7{~z\n",
            "V\"!ar3\n",
            "_s}A3K\n",
            "E8fdR}\n",
            "bQ0#h8\n"
          ]
        }
      ]
    }
  ]
}